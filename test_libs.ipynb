{
 "cells": [
  {
   "cell_type": "code",
   "execution_count": 41,
   "metadata": {
    "collapsed": true,
    "pycharm": {
     "is_executing": false
    }
   },
   "outputs": [
    {
     "name": "stdout",
     "text": [
      "['Люби', 'лишь', 'то', ',', 'что', 'редкостно', 'и', 'мнимо', ',', 'что']\n"
     ],
     "output_type": "stream"
    },
    {
     "data": {
      "text/plain": "[('Люби', 'S'),\n ('лишь', 'PART'),\n ('то', 'S-PRO'),\n (',', 'NONLEX'),\n ('что', 'S-PRO'),\n ('редкостно', 'ADV'),\n ('и', 'CONJ'),\n ('мнимо', 'ADV'),\n (',', 'NONLEX'),\n ('что', 'CONJ'),\n ('крадется', 'V'),\n ('окраинами', 'S'),\n ('сна', 'S'),\n (',', 'NONLEX'),\n ('что', 'CONJ'),\n ('злит', 'V'),\n ('глупцов', 'S'),\n (',', 'NONLEX'),\n ('что', 'CONJ'),\n ('смердами', 'S'),\n ('казнимо', 'ADV'),\n (',', 'NONLEX'),\n ('как', 'CONJ'),\n ('родине', 'S'),\n (',', 'NONLEX'),\n ('будь', 'V'),\n ('вымыслу', 'S'),\n ('верна', 'A=f'),\n ('.', 'NONLEX'),\n ('Наш', 'A-PRO=m'),\n ('час', 'S'),\n ('настал', 'V'),\n ('.', 'NONLEX'),\n ('Собаки', 'S'),\n ('и', 'CONJ'),\n ('калеки', 'S'),\n ('одни', 'A-PRO=pl'),\n ('не', 'PART'),\n ('спят', 'V'),\n ('.', 'NONLEX'),\n ('Ночь', 'S'),\n ('летняя', 'A=f'),\n ('легка', 'A=f'),\n ('.', 'NONLEX'),\n ('Автомобиль', 'S'),\n ('проехавший', 'V'),\n ('навеки', 'S'),\n ('последнего', 'A=m'),\n ('увез', 'S'),\n ('ростовщика', 'S'),\n ('.', 'NONLEX'),\n ('Близ', 'S'),\n ('фонаря', 'S'),\n (',', 'NONLEX'),\n ('с', 'PR'),\n ('оттенком', 'S'),\n ('маскарада', 'S'),\n (',', 'NONLEX'),\n ('лист', 'S'),\n ('жилками', 'S'),\n ('зелеными', 'A=pl'),\n ('сквозит', 'S'),\n ('.', 'NONLEX'),\n ('У', 'PR'),\n ('тех', 'A-PRO=pl'),\n ('ворот', 'S'),\n ('-', 'NONLEX'),\n ('кривая', 'A=f'),\n ('тень', 'S'),\n ('Багдада', 'S'),\n (',', 'NONLEX'),\n ('а', 'CONJ'),\n ('та', 'A-PRO=f'),\n ('звезда', 'S'),\n ('над', 'PR'),\n ('Пулковом', 'S'),\n ('висит', 'V'),\n ('.', 'NONLEX'),\n ('Как', 'ADV-PRO'),\n ('звать', 'V'),\n ('тебя', 'S-PRO'),\n ('?', 'NONLEX'),\n ('Ты', 'S-PRO'),\n ('полу-Мнемозина', 'ADV-PRO'),\n (',', 'NONLEX'),\n ('полумерцанье', 'S'),\n ('в', 'PR'),\n ('имени', 'S'),\n ('твоем', 'S'),\n (',', 'NONLEX'),\n ('и', 'CONJ'),\n ('странно', 'ADV'),\n ('мне', 'S-PRO'),\n ('по', 'PR'),\n ('сумраку', 'S'),\n ('Берлина', 'S'),\n ('с', 'PR'),\n ('полувиденьем', 'S'),\n ('странствовать', 'V'),\n ('вдвоем', 'S'),\n ('.', 'NONLEX'),\n ('Но', 'CONJ'),\n ('вот', 'PART'),\n ('скамья', 'S'),\n ('под', 'PR'),\n ('липой', 'S'),\n ('освещенной', 'A=f'),\n ('...', 'NONLEX'),\n ('Ты', 'S-PRO'),\n ('оживаешь', 'V'),\n ('в', 'PR'),\n ('судорогах', 'S'),\n ('слез', 'V'),\n (':', 'NONLEX'),\n ('я', 'S-PRO'),\n ('вижу', 'V'),\n ('взор', 'S'),\n (',', 'NONLEX'),\n ('сей', 'A-PRO=sg'),\n ('жизнью', 'S'),\n ('изумленный', 'A=m'),\n (',', 'NONLEX'),\n ('и', 'CONJ'),\n ('бледное', 'A=n'),\n ('сияние', 'S'),\n ('волос', 'S'),\n ('.', 'NONLEX'),\n ('Есть', 'V'),\n ('у', 'PR'),\n ('меня', 'S-PRO'),\n ('сравненье', 'S'),\n ('на', 'PR'),\n ('примете', 'S'),\n ('для', 'PR'),\n ('губ', 'S'),\n ('твоих', 'A-PRO=pl'),\n (',', 'NONLEX'),\n ('когда', 'CONJ'),\n ('целуешь', 'V'),\n ('ты', 'S-PRO'),\n (':', 'NONLEX'),\n ('нагорный', 'A=m'),\n ('снег', 'S'),\n (',', 'NONLEX'),\n ('мерцающий', 'V'),\n ('в', 'PR'),\n ('Тибете', 'S'),\n (',', 'NONLEX'),\n ('горячий', 'A=m'),\n ('ключ', 'S'),\n ('и', 'CONJ'),\n ('в', 'PR'),\n ('инее', 'A=sg'),\n ('цветы', 'S'),\n ('.', 'NONLEX'),\n ('Ночные', 'A=pl'),\n ('наши', 'A-PRO=pl'),\n ('бедные', 'A=pl'),\n ('владенья', 'S'),\n (',', 'NONLEX'),\n ('забор', 'S'),\n (',', 'NONLEX'),\n ('фонарь', 'S'),\n (',', 'NONLEX'),\n ('асфальтовую', 'A=f'),\n ('гладь', 'S'),\n ('поставим', 'V'),\n ('на', 'PR'),\n ('туза', 'S'),\n ('воображенья', 'S'),\n (',', 'NONLEX'),\n ('чтоб', 'CONJ'),\n ('целый', 'A=m'),\n ('мир', 'S'),\n ('у', 'PR'),\n ('ночи', 'S'),\n ('отыграть', 'V'),\n ('.', 'NONLEX'),\n ('Не', 'PART'),\n ('облака', 'S'),\n (',', 'NONLEX'),\n ('а', 'CONJ'),\n ('горные', 'A=pl'),\n ('отроги', 'S'),\n (',', 'NONLEX'),\n ('костер', 'S'),\n ('в', 'PR'),\n ('лесу', 'S'),\n (',', 'NONLEX'),\n ('не', 'PART'),\n ('лампа', 'V'),\n ('у', 'PR'),\n ('окна', 'S'),\n ('.', 'NONLEX'),\n ('О', 'INTJ'),\n (',', 'NONLEX'),\n ('поклянись', 'V'),\n (',', 'NONLEX'),\n ('что', 'CONJ'),\n ('до', 'PR'),\n ('конца', 'S'),\n ('дороги', 'S'),\n ('ты', 'S-PRO'),\n ('будешь', 'V'),\n ('только', 'PART'),\n ('вымыслу', 'S'),\n ('верна', 'A=f'),\n ('...', 'NONLEX'),\n ('Под', 'PR'),\n ('липовым', 'A=n'),\n ('цветением', 'S'),\n ('мигает', 'V'),\n ('фонарь', 'S'),\n ('.', 'NONLEX'),\n ('Темно', 'PRAEDIC'),\n (',', 'NONLEX'),\n ('душисто', 'ADV'),\n (',', 'NONLEX'),\n ('тихо', 'ADV'),\n ('.', 'NONLEX'),\n ('Тень', 'S'),\n ('прохожего', 'V'),\n ('по', 'PR'),\n ('тумбе', 'S'),\n ('пробегает', 'V'),\n (',', 'NONLEX'),\n ('как', 'CONJ'),\n ('соболь', 'S'),\n ('пробегает', 'V'),\n ('через', 'PR'),\n ('пень', 'S'),\n ('.', 'NONLEX'),\n ('За', 'PR'),\n ('пустырем', 'S'),\n (',', 'NONLEX'),\n ('как', 'CONJ'),\n ('персик', 'S'),\n (',', 'NONLEX'),\n ('небо', 'S'),\n ('тает', 'V'),\n (':', 'NONLEX'),\n ('вода', 'S'),\n ('в', 'PR'),\n ('огнях', 'S'),\n (',', 'NONLEX'),\n ('Венеция', 'S'),\n ('сквозит', 'V'),\n (',', 'NONLEX'),\n ('-', 'NONLEX'),\n ('а', 'CONJ'),\n ('улица', 'S'),\n ('кончается', 'V'),\n ('в', 'PR'),\n ('Китае', 'S'),\n (',', 'NONLEX'),\n ('а', 'CONJ'),\n ('та', 'A-PRO=f'),\n ('звезда', 'S'),\n ('над', 'PR'),\n ('Волгою', 'S'),\n ('висит', 'V'),\n ('.', 'NONLEX'),\n ('О', 'INTJ'),\n (',', 'NONLEX'),\n ('поклянись', 'V'),\n (',', 'NONLEX'),\n ('что', 'CONJ'),\n ('веришь', 'V'),\n ('в', 'PR'),\n ('небылицу', 'S'),\n (',', 'NONLEX'),\n ('что', 'CONJ'),\n ('будешь', 'V'),\n ('только', 'PART'),\n ('вымыслу', 'S'),\n ('верна', 'A=f'),\n (',', 'NONLEX'),\n ('что', 'CONJ'),\n ('не', 'PART'),\n ('запрешь', 'V'),\n ('души', 'S'),\n ('своей', 'A-PRO=f'),\n ('в', 'PR'),\n ('темницу', 'S'),\n (',', 'NONLEX'),\n ('не', 'PART'),\n ('скажешь', 'V'),\n (',', 'NONLEX'),\n ('руку', 'S'),\n ('протянув', 'V'),\n (':', 'NONLEX'),\n ('стена', 'S'),\n ('.', 'NONLEX')]"
     },
     "metadata": {},
     "output_type": "execute_result",
     "execution_count": 41
    }
   ],
   "source": [
    "import io\n",
    "import nltk\n",
    "from nltk import word_tokenize\n",
    "from nltk.book import FreqDist\n",
    "\n",
    "with io.open(\"sample.txt\", \"r\", encoding=\"utf8\") as f:\n",
    "    text = f.read()\n",
    "\n",
    "fdist = FreqDist(text)\n",
    "\n",
    "tokens = word_tokenize(text, language=\"russian\")\n",
    "print(tokens[:10])\n",
    "\n",
    "nltk.pos_tag(tokens, lang='rus')\n"
   ]
  },
  {
   "cell_type": "code",
   "execution_count": 46,
   "outputs": [
    {
     "data": {
      "text/plain": "<bound method NDFrame._add_numeric_operations.<locals>.mad of 0     Braund, Mr. Owen Harris\n1    Allen, Mr. William Henry\n2    Bonnell, Miss. Elizabeth\nName: Name, dtype: object>"
     },
     "metadata": {},
     "output_type": "execute_result",
     "execution_count": 46
    }
   ],
   "source": [
    "import pandas as pd\n",
    "\n",
    "df = pd.DataFrame({\n",
    "\"Name\": [\"Braund, Mr. Owen Harris\",\n",
    "\"Allen, Mr. William Henry\",\n",
    "\"Bonnell, Miss. Elizabeth\"],\n",
    "\"Age\": [22, 35, 58],\n",
    "\"Sex\": [\"male\", \"male\", \"female\"]}\n",
    ")\n",
    "\n",
    "df[\"Name\"]"
   ],
   "metadata": {
    "collapsed": false,
    "pycharm": {
     "name": "#%%\n",
     "is_executing": false
    }
   }
  },
  {
   "cell_type": "code",
   "execution_count": 49,
   "outputs": [
    {
     "name": "stderr",
     "output_type": "stream",
     "text": [
      "file://C:\\Users\\Nik\\onto.owl# does not look like a valid URI, trying to serialize this will break.\n"
     ]
    },
    {
     "data": {
      "text/plain": "<rdflib.plugins.sparql.processor.SPARQLResult at 0x1fba44e8e08>"
     },
     "execution_count": 49,
     "metadata": {},
     "output_type": "execute_result"
    }
   ],
   "source": [
    "from owlready2 import *\n",
    "import rdflib\n",
    "\n",
    "class SparqlQueries:\n",
    "    def __init__(self):\n",
    "        my_world = World()\n",
    "        my_world.get_ontology(\"file://C:\\\\Users\\\\Nik\\\\onto.owl\").load() \n",
    "        #sync_reasoner(my_world)  #reasoner is started and synchronized here\n",
    "        self.graph = my_world.as_rdflib_graph()\n",
    "\n",
    "    def search(self):\n",
    "        #Search query is given here\n",
    "        #Base URL of your ontology has to be given here\n",
    "        query = \"\"\"\n",
    "                BASE <http://eg.org/>\n",
    "                SELECT DISTINCT  ?author\n",
    "                WHERE\n",
    "                { ?book  <author>   ?author ;\n",
    "                        FILTER (?title = \"The Tragical History of Romeus and Juliet\")\n",
    "                }\n",
    "                \"\"\"\n",
    "\n",
    "        #query is being run\n",
    "        resultsList = self.graph.query(query)\n",
    "\n",
    "        # #creating json object\n",
    "        # response = []\n",
    "        # for item in resultsList:\n",
    "        #     s = str(item['s'].toPython())\n",
    "        #     s = re.sub(r'.*#',\"\",s)\n",
    "        #\n",
    "        #     p = str(item['p'].toPython())\n",
    "        #     p = re.sub(r'.*#', \"\", p)\n",
    "        #\n",
    "        #     o = str(item['o'].toPython())\n",
    "        #     o = re.sub(r'.*#', \"\", o)\n",
    "        #     response.append({'s' : s, 'p' : p, \"o\" : o})\n",
    "\n",
    "        for item in resultsList:\n",
    "            print(item) #just to show the output\n",
    "        return resultsList\n",
    "\n",
    "\n",
    "runQuery = SparqlQueries()\n",
    "runQuery.search()"
   ],
   "metadata": {
    "collapsed": false,
    "pycharm": {
     "name": "#%%\n"
    }
   }
  }
 ],
 "metadata": {
  "kernelspec": {
   "display_name": "Python 3",
   "language": "python",
   "name": "python3"
  },
  "language_info": {
   "codemirror_mode": {
    "name": "ipython",
    "version": 2
   },
   "file_extension": ".py",
   "mimetype": "text/x-python",
   "name": "python",
   "nbconvert_exporter": "python",
   "pygments_lexer": "ipython2",
   "version": "2.7.6"
  }
 },
 "nbformat": 4,
 "nbformat_minor": 0
}