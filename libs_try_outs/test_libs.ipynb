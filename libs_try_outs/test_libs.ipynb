{
 "cells": [
  {
   "cell_type": "code",
   "execution_count": null,
   "metadata": {
    "collapsed": true,
    "pycharm": {
     "is_executing": false
    }
   },
   "outputs": [],
   "source": [
    "import io\n",
    "import nltk\n",
    "from nltk import word_tokenize\n",
    "from nltk.book import FreqDist\n",
    "\n",
    "with io.open(\"sample.txt\", \"r\", encoding=\"utf8\") as f:\n",
    "    text = f.read()\n",
    "\n",
    "fdist = FreqDist(text)\n",
    "\n",
    "tokens = word_tokenize(text, language=\"russian\")\n",
    "print(tokens[:10])\n",
    "\n",
    "nltk.pos_tag(tokens, lang='rus')\n"
   ]
  },
  {
   "cell_type": "code",
   "execution_count": 46,
   "outputs": [
    {
     "data": {
      "text/plain": "<bound method NDFrame._add_numeric_operations.<locals>.mad of 0     Braund, Mr. Owen Harris\n1    Allen, Mr. William Henry\n2    Bonnell, Miss. Elizabeth\nName: Name, dtype: object>"
     },
     "metadata": {},
     "output_type": "execute_result",
     "execution_count": 46
    }
   ],
   "source": [
    "import pandas as pd\n",
    "\n",
    "df = pd.DataFrame({\n",
    "\"Name\": [\"Braund, Mr. Owen Harris\",\n",
    "\"Allen, Mr. William Henry\",\n",
    "\"Bonnell, Miss. Elizabeth\"],\n",
    "\"Age\": [22, 35, 58],\n",
    "\"Sex\": [\"male\", \"male\", \"female\"]}\n",
    ")\n",
    "\n",
    "df[\"Name\"]"
   ],
   "metadata": {
    "collapsed": false,
    "pycharm": {
     "name": "#%%\n",
     "is_executing": false
    }
   }
  },
  {
   "cell_type": "code",
   "execution_count": 15,
   "outputs": [
    {
     "output_type": "stream",
     "name": "stderr",
     "text": "file://C:\\Users\\Nik\\onto.owl# does not look like a valid URI, trying to serialize this will break.\n(rdflib.term.URIRef('http://www.w3.org/1999/02/22-rdf-syntax-ns#type'), rdflib.term.URIRef('http://www.w3.org/2002/07/owl#Ontology'), rdflib.term.BNode('1'))\n(rdflib.term.URIRef('http://www.w3.org/1999/02/22-rdf-syntax-ns#type'), rdflib.term.URIRef('http://www.w3.org/2002/07/owl#AnnotationProperty'), rdflib.term.URIRef('http://dbpedia.org/ontology/birthDate'))\n(rdflib.term.URIRef('http://www.w3.org/1999/02/22-rdf-syntax-ns#type'), rdflib.term.URIRef('http://www.w3.org/2002/07/owl#AnnotationProperty'), rdflib.term.URIRef('http://dbpedia.org/ontology/birthName'))\n"
    },
    {
     "output_type": "execute_result",
     "data": {
      "text/plain": "<rdflib.plugins.sparql.processor.SPARQLResult at 0x1a270837a88>"
     },
     "metadata": {},
     "execution_count": 15
    }
   ],
   "source": [
    "from owlready2 import *\n",
    "import rdflib\n",
    "\n",
    "class SparqlQueries:\n",
    "    def __init__(self):\n",
    "        my_world = World()\n",
    "        my_world.get_ontology(\"file://C:\\\\Users\\\\Nik\\\\onto.owl\").load() \n",
    "        #sync_reasoner(my_world)  #reasoner is started and synchronized here\n",
    "        self.graph = my_world.as_rdflib_graph()\n",
    "\n",
    "    def search(self):\n",
    "        #Search query is given here\n",
    "        #Base URL of your ontology has to be given here\n",
    "        query = \"\"\"\n",
    "                PREFIX dbo: <http://dbpedia.org/ontology/>\n",
    "                PREFIX rdfs: <http://www.w3.org/2000/01/rdf-schema#> \n",
    "                PREFIX rdf: <http://www.w3.org/1999/02/22-rdf-syntax-ns#> \n",
    "                SELECT * WHERE \n",
    "{ ?s ?p ?o .\n",
    "} LIMIT 3\n",
    "                \"\"\"\n",
    "\n",
    "        #query is being run\n",
    "        resultsList = self.graph.query(query)\n",
    "\n",
    "        # #creating json object\n",
    "        # response = []\n",
    "        # for item in resultsList:\n",
    "        #     s = str(item['s'].toPython())\n",
    "        #     s = re.sub(r'.*#',\"\",s)\n",
    "        #\n",
    "        #     p = str(item['p'].toPython())\n",
    "        #     p = re.sub(r'.*#', \"\", p)\n",
    "        #\n",
    "        #     o = str(item['o'].toPython())\n",
    "        #     o = re.sub(r'.*#', \"\", o)\n",
    "        #     response.append({'s' : s, 'p' : p, \"o\" : o})\n",
    "\n",
    "        for item in resultsList:\n",
    "            print(item) #just to show the output\n",
    "        return resultsList\n",
    "\n",
    "\n",
    "runQuery = SparqlQueries()\n",
    "runQuery.search()"
   ],
   "metadata": {
    "collapsed": false,
    "pycharm": {
     "name": "#%%\n"
    }
   }
  },
  {
   "cell_type": "code",
   "execution_count": 11,
   "metadata": {},
   "outputs": [
    {
     "output_type": "stream",
     "name": "stdout",
     "text": "AllDisjoint([C:\\Dev\\Python\\course_project\\OOPOntology.МодификаторДоступа, C:\\Dev\\Python\\course_project\\OOPOntology.ПонятиеООП, C:\\Dev\\Python\\course_project\\OOPOntology.ТипДанных, C:\\Dev\\Python\\course_project\\OOPOntology.ЯзыкПрограммирования])\n---\n"
    }
   ],
   "source": [
    "from owlready2 import *\n",
    "\n",
    "world = World()\n",
    "onto = world.get_ontology(\n",
    "    \"file://C:\\Users\\Nik\\Desktop\\6 семестр\\Семантическийвеб\\Практика\\pizza.owl\").load()\n",
    "\n",
    "for dis in onto.disjoint_classes():\n",
    "    print(dis)\n",
    "\n",
    "print(\"---\")\n",
    "\n",
    "for ax in onto.general_axioms():\n",
    "    print(ax)"
   ]
  },
  {
   "cell_type": "code",
   "execution_count": null,
   "metadata": {},
   "outputs": [],
   "source": []
  },
  {
   "cell_type": "code",
   "execution_count": null,
   "metadata": {},
   "outputs": [],
   "source": [
    "get_ipython().run_line_magic('matplotlib', 'inline')\n",
    "plt.style.use(\"ggplot\")\n",
    "from IPython import get_ipython\n",
    "\n",
    "from sklearn.decomposition import PCA\n",
    "\n",
    "def display_pca_scatterplot(model, words=None, sample=0):\n",
    "    \"\"\"\n",
    "    Метод главных компонент.\n",
    "    Функция выводит представление векторов в двумерном простанстве.\n",
    "    \"\"\"\n",
    "    if words == None:\n",
    "        if sample > 0:\n",
    "            words = np.random.choice(list(model.vocab.keys()), sample)\n",
    "        else:\n",
    "            words = [word for word in model.vocab]\n",
    "\n",
    "    word_vectors = np.array([model[w] for w in words])\n",
    "\n",
    "    twodim = PCA().fit_transform(word_vectors)[:, :2]\n",
    "\n",
    "    plt.figure(figsize=(6, 6))\n",
    "    plt.scatter(twodim[:, 0], twodim[:, 1], edgecolors='k', c='r')\n",
    "    for word, (x, y) in zip(words, twodim):\n",
    "        plt.text(x+0.03, y+0.03, word)\n",
    "\n",
    "\n",
    "display_pca_scatterplot(w2v_model.wv,\n",
    "                        [\"класс\", \"интерфейс\", \"инкапсуляция\", \"наследование\",\n",
    "                         \"java\", \"private\", \"protected\", \"public\",\n",
    "                         \"язык\", \"программирование\"])\n",
    "display_pca_scatterplot(w2v_model.wv, sample=20)"
   ]
  }
 ],
 "metadata": {
  "kernelspec": {
   "display_name": "Python 3.7.7 64-bit ('word2vec': conda)",
   "language": "python",
   "name": "python37764bitword2vecconda45dcc1f7f28f4b0482775dac84d7931a"
  },
  "language_info": {
   "codemirror_mode": {
    "name": "ipython",
    "version": 2
   },
   "file_extension": ".py",
   "mimetype": "text/x-python",
   "name": "python",
   "nbconvert_exporter": "python",
   "pygments_lexer": "ipython2",
   "version": "3.7.7-final"
  }
 },
 "nbformat": 4,
 "nbformat_minor": 0
}